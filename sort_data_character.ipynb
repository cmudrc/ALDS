{
 "cells": [
  {
   "cell_type": "code",
   "execution_count": 1,
   "metadata": {},
   "outputs": [],
   "source": [
    "from dataset.MatDataset import BurgersDataset\n",
    "import torch\n",
    "from models.teecnet import TEECNetConv\n",
    "import matplotlib.pyplot as plt\n",
    "import tqdm\n",
    "import numpy as np\n",
    "import os"
   ]
  },
  {
   "cell_type": "code",
   "execution_count": 2,
   "metadata": {},
   "outputs": [],
   "source": [
    "def plot_prediction(window_size, y, y_pred, epoch, batch_idx, folder):\n",
    "    xx, yy = np.meshgrid(np.linspace(0, 1, window_size), np.linspace(0, 1, window_size))\n",
    "    fig, axs = plt.subplots(1, 3, figsize=(17, 5))\n",
    "    axs[0].contourf(xx, yy, y.cpu().detach().numpy().reshape(window_size, window_size), levels=100, cmap='plasma')\n",
    "    axs[0].set_title('(a) Ground truth')\n",
    "    axs[0].axis('off')\n",
    "    axs[1].contourf(xx, yy, y_pred.reshape(window_size, window_size), levels=100, cmap='plasma')\n",
    "    axs[1].set_title('(b) Prediction')\n",
    "    axs[1].axis('off')\n",
    "    axs[2].contourf(xx, yy, np.abs(y.cpu().detach().numpy().reshape(window_size, window_size) - y_pred.reshape(window_size, window_size)), levels=100, cmap='plasma')\n",
    "    axs[2].set_title('(c) Absolute difference')\n",
    "    axs[2].axis('off')\n",
    "\n",
    "    # plt.colorbar(axs[2].contourf(xx, yy, np.abs(y.cpu().detach().numpy().reshape(window_size, window_size) - y_pred.reshape(window_size, window_size)), levels=100, cmap='plasma'), ax=axs[2], pad=0.01)\n",
    "\n",
    "    plt.savefig(os.path.join(folder, f'epoch_{epoch}_batch_{batch_idx}.png'))\n",
    "    # wandb.log({'prediction': wandb.Image(plt)})\n",
    "    plt.close()"
   ]
  },
  {
   "cell_type": "code",
   "execution_count": 4,
   "metadata": {},
   "outputs": [
    {
     "name": "stderr",
     "output_type": "stream",
     "text": [
      "  0%|          | 0/990 [00:00<?, ?it/s]C:\\Users\\xuwen\\AppData\\Local\\Temp\\ipykernel_28360\\3033759109.py:12: UserWarning: To copy construct from a tensor, it is recommended to use sourceTensor.clone().detach() or sourceTensor.clone().detach().requires_grad_(True), rather than torch.tensor(sourceTensor).\n",
      "  data[1] = torch.tensor(data[1], dtype=torch.float)\n",
      "100%|██████████| 990/990 [13:00<00:00,  1.27it/s]\n"
     ]
    },
    {
     "data": {
      "image/png": "[encoded data removed]",
      "text/plain": [
       "<Figure size 640x480 with 1 Axes>"
      ]
     },
     "metadata": {},
     "output_type": "display_data"
    }
   ],
   "source": [
    "model = TEECNetConv(1, 32, 1, num_layers=6, retrieve_weights=False, num_powers=3, sub_size=6)\n",
    "dataset = BurgersDataset(root='data/burgers')\n",
    "\n",
    "fft_x_list = []\n",
    "fft_y_list = []\n",
    "\n",
    "sub_x_total = []\n",
    "sub_y_total = []\n",
    "\n",
    "for data in tqdm.tqdm(dataset):\n",
    "    data[0] = torch.tensor(data[0], dtype=torch.float)\n",
    "    data[1] = torch.tensor(data[1], dtype=torch.float)\n",
    "    sub_x_list, sub_y_list = model.get_partition_domain(data[0], mode='train'), model.get_partition_domain(data[1], mode='test')\n",
    "    sub_x_total.append(sub_x_list)\n",
    "    sub_y_total.append(sub_y_list)\n",
    "    for sub_x, sub_y in zip(sub_x_list, sub_y_list):\n",
    "        # calculate fft of sub_x and sub_y\n",
    "        sub_x_fft = torch.fft.fftn(sub_x[:, :, :, 0].squeeze(0))\n",
    "        sub_y_fft = torch.fft.fftn(sub_y[:, :, :, 0].squeeze(0))\n",
    "\n",
    "        # calculate the dominant frequencies\n",
    "        sub_x_fft_abs = torch.abs(sub_x_fft)\n",
    "        sub_y_fft_abs = torch.abs(sub_y_fft)\n",
    "\n",
    "        power_spectrum_x = sub_x_fft_abs**2\n",
    "        power_spectrum_y = sub_y_fft_abs**2\n",
    "\n",
    "        power_spectrum_x[0, 0] = 0\n",
    "        power_spectrum_y[0, 0] = 0\n",
    "\n",
    "        sub_x_freq = torch.fft.fftfreq(sub_x_fft_abs.size(0))\n",
    "        sub_y_freq = torch.fft.fftfreq(sub_y_fft_abs.size(0))\n",
    "\n",
    "        sub_x_freq_max = sub_x_freq[torch.argmax(power_spectrum_x) % sub_x_freq.size(0)]\n",
    "        sub_y_freq_max = sub_y_freq[torch.argmax(power_spectrum_y) % sub_y_freq.size(0)]\n",
    "\n",
    "        # store the dominant frequencies\n",
    "        fft_x_list.append(sub_x_freq_max)\n",
    "        fft_y_list.append(sub_y_freq_max)\n",
    "\n",
    "\n",
    "# plot the distribution of the dominant frequencies of the input and output\n",
    "plt.hist(fft_x_list, bins=100, alpha=0.5, label='input')\n",
    "plt.hist(fft_y_list, bins=100, alpha=0.5, label='output')\n",
    "plt.legend(loc='upper right')\n",
    "plt.savefig('dominant_frequencies.png')\n",
    "\n",
    "# save the sub_x_total and sub_y_total lists and the fft_x_list and fft_y_list lists\n",
    "torch.save(sub_x_total, 'sub_x_total.pt')\n",
    "torch.save(sub_y_total, 'sub_y_total.pt')\n",
    "torch.save(fft_x_list, 'fft_x_list.pt')\n",
    "torch.save(fft_y_list, 'fft_y_list.pt')"
   ]
  },
  {
   "cell_type": "code",
   "execution_count": 3,
   "metadata": {},
   "outputs": [],
   "source": [
    "# load the sub_x_total and sub_y_total lists and the fft_x_list and fft_y_list lists\n",
    "sub_x_total = torch.load('sub_x_total.pt')\n",
    "# sub_y_total = torch.load('sub_y_total.pt')\n",
    "fft_x_list = torch.load('fft_x_list.pt')\n",
    "# fft_y_list = torch.load('fft_y_list.pt')\n",
    "\n",
    "# # plot the samples where -0.6<fft_x<-0.4\n",
    "# for i, (sub_x, sub_y, fft_x, fft_y) in enumerate(zip(sub_x_total, sub_y_total, fft_x_list, fft_y_list)):\n",
    "#     if -0.6 < fft_x < -0.4:\n",
    "#         plot_prediction(64, sub_x, sub_y, 0, i, 'results')"
   ]
  },
  {
   "cell_type": "code",
   "execution_count": null,
   "metadata": {},
   "outputs": [
    {
     "ename": "AttributeError",
     "evalue": "'list' object has no attribute 'shape'",
     "output_type": "error",
     "traceback": [
      "\u001b[1;31m---------------------------------------------------------------------------\u001b[0m",
      "\u001b[1;31mAttributeError\u001b[0m                            Traceback (most recent call last)",
      "Cell \u001b[1;32mIn[4], line 1\u001b[0m\n\u001b[1;32m----> 1\u001b[0m \u001b[43msub_x_total\u001b[49m\u001b[38;5;241;43m.\u001b[39;49m\u001b[43mshape\u001b[49m\n",
      "\u001b[1;31mAttributeError\u001b[0m: 'list' object has no attribute 'shape'"
     ]
    }
   ],
   "source": [
    "sub_x_total.shape"
   ]
  }
 ],
 "metadata": {
  "kernelspec": {
   "display_name": "pyg",
   "language": "python",
   "name": "python3"
  },
  "language_info": {
   "codemirror_mode": {
    "name": "ipython",
    "version": 3
   },
   "file_extension": ".py",
   "mimetype": "text/x-python",
   "name": "python",
   "nbconvert_exporter": "python",
   "pygments_lexer": "ipython3",
   "version": "3.10.12"
  }
 },
 "nbformat": 4,
 "nbformat_minor": 2
}
